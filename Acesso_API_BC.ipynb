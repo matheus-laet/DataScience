{
  "nbformat": 4,
  "nbformat_minor": 0,
  "metadata": {
    "colab": {
      "name": "Untitled0.ipynb",
      "provenance": [],
      "toc_visible": true,
      "authorship_tag": "ABX9TyMS3mka4ZvCthGAU/mnOGRi",
      "include_colab_link": true
    },
    "kernelspec": {
      "name": "python3",
      "display_name": "Python 3"
    }
  },
  "cells": [
    {
      "cell_type": "markdown",
      "metadata": {
        "id": "view-in-github",
        "colab_type": "text"
      },
      "source": [
        "<a href=\"https://colab.research.google.com/github/matheusslaet/DataScience/blob/main/Acesso_API_BC.ipynb\" target=\"_parent\"><img src=\"https://colab.research.google.com/assets/colab-badge.svg\" alt=\"Open In Colab\"/></a>"
      ]
    },
    {
      "cell_type": "markdown",
      "metadata": {
        "id": "px9UbyA1cMwG"
      },
      "source": [
        "# Acessando e colhendo dados com a API do Banco Central"
      ]
    },
    {
      "cell_type": "markdown",
      "metadata": {
        "id": "yEjlRPo6XRxc"
      },
      "source": [
        "### Importar as bibliotecas Necessarias."
      ]
    },
    {
      "cell_type": "code",
      "metadata": {
        "id": "SniVyRKxrWiL"
      },
      "source": [
        "import requests\n",
        "import pandas as pd"
      ],
      "execution_count": 1,
      "outputs": []
    },
    {
      "cell_type": "markdown",
      "metadata": {
        "id": "pCxR49kOXaIQ"
      },
      "source": [
        "### Construindo uma url para a API e salvando em uma variavel"
      ]
    },
    {
      "cell_type": "code",
      "metadata": {
        "id": "q5s9Q1aOrXRQ"
      },
      "source": [
        "formato = '$format=json' # espera-se $format=\n",
        "ordem = '' #espera-se $orderby=\n",
        "filtro = \"$filter=Indicador eq 'IPCA'\" #espera-se $filter=\n",
        "skip = '' #espera-se $skip=\n",
        "expectativa = \"ExpectativaMercadoMensais\"\n",
        "size = '$top=100' #espera-se $top=\n",
        "\n",
        "api = f'https://olinda.bcb.gov.br/olinda/servico/Expectativas/versao/v1/odata/{expectativa}?{formato}&{ordem}&{filtro}&{skip}&{size}'"
      ],
      "execution_count": 66,
      "outputs": []
    },
    {
      "cell_type": "markdown",
      "metadata": {
        "id": "wc-SdA5nbppL"
      },
      "source": [
        "### Acessando a API, Convertendo para json e pegando os valores retornados"
      ]
    },
    {
      "cell_type": "code",
      "metadata": {
        "id": "veJ28P5Uoqvr"
      },
      "source": [
        "response = requests.get(api)\r\n",
        "response = response.json()\r\n",
        "values = response.get(\"value\")"
      ],
      "execution_count": 67,
      "outputs": []
    },
    {
      "cell_type": "markdown",
      "metadata": {
        "id": "bC1qoi8cb9t0"
      },
      "source": [
        "### Convertendo os dados em um DataFrame e salvando em um CSV"
      ]
    },
    {
      "cell_type": "code",
      "metadata": {
        "id": "dYgOykUSo7WJ"
      },
      "source": [
        "df = pd.DataFrame(values)\r\n",
        "df.to_csv(\"Valores_API_BC.csv\")"
      ],
      "execution_count": 62,
      "outputs": []
    }
  ]
}